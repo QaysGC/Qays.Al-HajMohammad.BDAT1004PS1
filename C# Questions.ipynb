{
 "cells": [
  {
   "cell_type": "markdown",
   "metadata": {},
   "source": [
    "# Problem Set 1\n",
    "Student Name: Qays Omar Al-Haj\n",
    "\n",
    "Student ID: 200414154"
   ]
  },
  {
   "cell_type": "markdown",
   "metadata": {},
   "source": [
    "# Question 1 C#"
   ]
  },
  {
   "cell_type": "markdown",
   "metadata": {},
   "source": [
    "What data type is each of the following?\n",
    "\n",
    "5 (integer)\n",
    "\n",
    "5.0 (float)\n",
    "\n",
    "5 > 1 (boolean)\n",
    "\n",
    "'5' (charecter)\n",
    "\n",
    "5 * 2 ( Integer)\n",
    "\n",
    "'5' * 2 (string)\n",
    "\n",
    "'5' + '2'(string)\n",
    "\n",
    "5 / 2 (float)\n",
    "\n",
    "5 // 2 (Integer)\n",
    "\n",
    "[5, 2, 1] (list)\n",
    "\n",
    "5 in [1, 4, 6] (Boolean)\n",
    "\n",
    "Pi (the number) (Float)"
   ]
  },
  {
   "cell_type": "markdown",
   "metadata": {},
   "source": [
    "# Question 2 C#"
   ]
  },
  {
   "cell_type": "markdown",
   "metadata": {},
   "source": [
    "Write (and evaluate) C# expressions that answer these questions:\n",
    "\n",
    "a. How many letters are there in 'Supercalifragilisticexpialidocious'?"
   ]
  },
  {
   "cell_type": "code",
   "execution_count": 3,
   "metadata": {},
   "outputs": [
    {
     "name": "stdout",
     "output_type": "stream",
     "text": [
      "There are 34 letters in str1\r\n"
     ]
    }
   ],
   "source": [
    "using System;\n",
    "using System.Collections.Generic;\n",
    "\n",
    "string str1 = \"Supercalifragilisticexpialidocious\";\n",
    "Console.WriteLine(\"There are {0} letters in str1\", str1.Length);"
   ]
  },
  {
   "cell_type": "markdown",
   "metadata": {},
   "source": [
    "b. Does 'Supercalifragilisticexpialidocious' contain 'ice' as a substring? "
   ]
  },
  {
   "cell_type": "code",
   "execution_count": 4,
   "metadata": {},
   "outputs": [
    {
     "name": "stdout",
     "output_type": "stream",
     "text": [
      "The value of str3 is in str2 = True\r\n"
     ]
    }
   ],
   "source": [
    "string str2 = \"Supercalifragilisticexpialidocious\"; \n",
    "string str3 = \"ice\";\n",
    "\n",
    "Console.WriteLine(\"The value of str3 is in str2 = {0}\", str2.Contains(str3));"
   ]
  },
  {
   "cell_type": "markdown",
   "metadata": {},
   "source": [
    "c. Which of the following words is the longest: Supercalifragilisticexpialidocious, Honorificabilitudinitatibus, or\n",
    "Bababadalgharaghtakamminarronnkonn?"
   ]
  },
  {
   "cell_type": "code",
   "execution_count": 5,
   "metadata": {},
   "outputs": [
    {
     "name": "stdout",
     "output_type": "stream",
     "text": [
      "The longgest word is = Supercalifragilisticexpialidocious\r\n"
     ]
    }
   ],
   "source": [
    "string str4 = \"Supercalifragilisticexpialidocious\";\n",
    "string str5 = \"Honorificabilitudinitatibus\";\n",
    "string str6 = \"Bababadalgharaghtakamminarronnkonn\";\n",
    "\n",
    "if ((str4.Length>=str5.Length) && (str4.Length>=str6.Length))\n",
    "    Console.WriteLine(\"The longgest word is = {0}\", str4);  \n",
    "                \n",
    "else if (str5.Length >= str6.Length)\n",
    "    Console.WriteLine(\"The longgest word is = {0}\", str5);\n",
    "else\n",
    "    Console.WriteLine(\"The longgest word is = {0}\", str6);"
   ]
  },
  {
   "cell_type": "markdown",
   "metadata": {},
   "source": [
    "d. Which composer comes first in the dictionary: 'Berlioz', 'Borodin', 'Brian', 'Bartok', 'Bellini', 'Buxtehude', 'Bernstein'. Which one comes last?\n"
   ]
  },
  {
   "cell_type": "code",
   "execution_count": 6,
   "metadata": {},
   "outputs": [
    {
     "name": "stdout",
     "output_type": "stream",
     "text": [
      "Bartok\n",
      "Bellini\n",
      "Berlioz\n",
      "Bernstein\n",
      "Borodin\n",
      "Brian\n",
      "Buxtehude\r\n"
     ]
    }
   ],
   "source": [
    "var MyList = new List<string>();\n",
    "\n",
    "MyList.Add(\"Berlioz\");\n",
    "MyList.Add(\"Borodin\");\n",
    "MyList.Add(\"Brian\");\n",
    "MyList.Add(\"Bartok\");\n",
    "MyList.Add(\"Bellini\");\n",
    "MyList.Add(\"Buxtehude\");\n",
    "MyList.Add(\"Bernstein\");\n",
    "\n",
    "MyList.Sort();\n",
    "Console.WriteLine(string.Join(\"\\n\", MyList));"
   ]
  },
  {
   "cell_type": "markdown",
   "metadata": {},
   "source": [
    "# Question 3 C#\n"
   ]
  },
  {
   "cell_type": "markdown",
   "metadata": {},
   "source": [
    "Implement function triangleArea(a,b,c) that takes as input the lengths of the 3 sides of a triangle and returns the area of the triangle. "
   ]
  },
  {
   "cell_type": "code",
   "execution_count": 10,
   "metadata": {},
   "outputs": [],
   "source": [
    "public class myFunction\n",
    "{            \n",
    "    public double triangleArea(double a, double b, double c)\n",
    "    {\n",
    "       double s;\n",
    "\n",
    "       s = ((a + b + c)/2);\n",
    "       var Area = Math.Sqrt(s*(s - a) * (s - b) * (s - c));\n",
    "\n",
    "       return Area;\n",
    "    }\n",
    "}"
   ]
  },
  {
   "cell_type": "code",
   "execution_count": 11,
   "metadata": {},
   "outputs": [
    {
     "name": "stdout",
     "output_type": "stream",
     "text": [
      "Area = 1.7320508075688772\r\n"
     ]
    }
   ],
   "source": [
    "myFunction program = new myFunction(); \n",
    "\n",
    "var a = 2;\n",
    "var b = 2;\n",
    "var c = 2;\n",
    "\n",
    "var Area = program.triangleArea(a, b, c);\n",
    "Console.WriteLine(\"Area = {0}\", Area);"
   ]
  },
  {
   "cell_type": "markdown",
   "metadata": {},
   "source": [
    "# Question 4 C#"
   ]
  },
  {
   "cell_type": "markdown",
   "metadata": {},
   "source": [
    "Write a program in C# Sharp to seaparate odd and even integers in separate arrays. "
   ]
  },
  {
   "cell_type": "code",
   "execution_count": 12,
   "metadata": {},
   "outputs": [
    {
     "name": "stdout",
     "output_type": "stream",
     "text": [
      "element [0]: 25\n",
      "element [1]: 47\n",
      "element [2]: 42\n",
      "element [3]: 56\n",
      "element [4]: 32\n",
      "\n",
      "The Even elements are : \n",
      "42\n",
      "56\n",
      "32\n",
      "\n",
      "The Odd elements are :\n",
      "25\n",
      "47\n"
     ]
    }
   ],
   "source": [
    "int[] Array1 = new int[5];\n",
    "int[] Array2 = new int[5];\n",
    "int[] Array3 = new int[5];\n",
    "\n",
    "int b;\n",
    "int c;\n",
    "            \n",
    "for (int a= 0; a<Array1.Length; a++)\n",
    "{\n",
    "    Array1[0] = 25;\n",
    "    Array1[1] = 47;\n",
    "    Array1[2] = 42;\n",
    "    Array1[3] = 56;\n",
    "    Array1[4] = 32;\n",
    "                \n",
    "    Console.Write(\"element [{0}]: \", a, Array1[a]);\n",
    "    Console.WriteLine(Array1[a]);       \n",
    "}\n",
    "\n",
    "// for all elements stored in the array\n",
    "\n",
    "for (int a = 0; a < Array1.Length; a++) \n",
    "{\n",
    "    // find out if the number is divisiable by 2 and reminder = 0\n",
    "    if (Array1[a]%2 == 0) \n",
    "    { \n",
    "        Array2[b] = Array1[a];\n",
    "        b++;        \n",
    "    }\n",
    "\n",
    "     else\n",
    "    {\n",
    "        Array3[c] = Array1[a];\n",
    "        c++;             \n",
    "    }\n",
    "}          \n",
    "            \n",
    "Console.Write(\"\\n\");\n",
    "Console.WriteLine(\"The Even elements are : \");\n",
    "\n",
    "for (int a = 0; a < b; a++)\n",
    "{\n",
    "    Console.WriteLine(\"{0}\", Array2[a]);\n",
    "}\n",
    "\n",
    "    Console.Write(\"\\n\");\n",
    "    Console.WriteLine(\"The Odd elements are :\");\n",
    "    \n",
    "\n",
    "for (int a= 0; a < c; a++)\n",
    "{\n",
    "    Console.WriteLine(\"{0}\", Array3[a]);\n",
    "}\n",
    "            "
   ]
  },
  {
   "cell_type": "markdown",
   "metadata": {},
   "source": [
    "# Question 5 C#"
   ]
  },
  {
   "cell_type": "markdown",
   "metadata": {},
   "source": [
    "a. Write a function inside(x,y,x1,y1,x2,y2) that returns True or False depending on whether the point (x,y) lies in the rectangle with lower left corner (x1,y1) and upper right corner (x2,y2)."
   ]
  },
  {
   "cell_type": "code",
   "execution_count": 13,
   "metadata": {},
   "outputs": [],
   "source": [
    "class myClass\n",
    "     {\n",
    "          public void inside(double x, double y, double x1 , double y1, double x2, double y2)\n",
    "          {\n",
    "               if (x > x1 && x < x2 && y > y1 && y < y2) \n",
    "                    Console.WriteLine(\"True\");\n",
    "               else\n",
    "                    Console.WriteLine(\"False\");\n",
    "          }\n",
    "     }\n",
    "\n",
    "     myClass Object = new myClass();"
   ]
  },
  {
   "cell_type": "code",
   "execution_count": 14,
   "metadata": {},
   "outputs": [
    {
     "name": "stdout",
     "output_type": "stream",
     "text": [
      "True\r\n"
     ]
    }
   ],
   "source": [
    "Object.inside(1,1,0,0,2,3);"
   ]
  },
  {
   "cell_type": "code",
   "execution_count": 15,
   "metadata": {},
   "outputs": [
    {
     "name": "stdout",
     "output_type": "stream",
     "text": [
      "False\r\n"
     ]
    }
   ],
   "source": [
    " Object.inside(-1,-1,0,0,2,3);"
   ]
  },
  {
   "cell_type": "markdown",
   "metadata": {},
   "source": [
    "b) Use function inside() from part a. to write an expression that tests whether the point (1,1) lies in both of the following rectangles: one with lower left corner (0.3, 0.5) and upper right corner (1.1, 0.7) and the other with lower left corner (0.5, 0.2) and upper right corner (1.1, 2)."
   ]
  },
  {
   "cell_type": "code",
   "execution_count": 18,
   "metadata": {},
   "outputs": [
    {
     "name": "stdout",
     "output_type": "stream",
     "text": [
      "False\r\n"
     ]
    }
   ],
   "source": [
    "// Part b\n",
    "Object.inside(1,1,0.3,0.5,1.1,0.7);"
   ]
  },
  {
   "cell_type": "code",
   "execution_count": null,
   "metadata": {},
   "outputs": [],
   "source": []
  }
 ],
 "metadata": {
  "kernelspec": {
   "display_name": ".NET (C#)",
   "language": "C#",
   "name": ".net-csharp"
  },
  "language_info": {
   "file_extension": ".cs",
   "mimetype": "text/x-csharp",
   "name": "C#",
   "pygments_lexer": "csharp",
   "version": "8.0"
  }
 },
 "nbformat": 4,
 "nbformat_minor": 4
}
