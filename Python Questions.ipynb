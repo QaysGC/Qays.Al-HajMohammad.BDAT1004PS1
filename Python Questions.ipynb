{
 "cells": [
  {
   "cell_type": "markdown",
   "metadata": {},
   "source": [
    "# Question 6 Python"
   ]
  },
  {
   "cell_type": "markdown",
   "metadata": {},
   "source": [
    "You can turn a word into pig-Latin using the following two rules (simplified):\n",
    "\n",
    "• If the word starts with a consonant, move that letter to the end and append 'ay'. For example, 'happy' becomes 'appyhay' and 'pencil' becomes 'encilpay'.\n",
    "\n",
    "• If the word starts with a vowel, simply append 'way' to the end of the word.\n",
    "\n",
    "For example, 'enter' becomes 'enterway' and 'other' becomes 'otherway' . For our purposes, there are 5 vowels: a, e, i, o, u (so we count y as a consonant).\n",
    "\n",
    "Write a function pig() that takes a word (i.e., a string) as input and returns its pigLatin form. Your function should still work if the input word contains upper case characters. Your output should always be lower case however."
   ]
  },
  {
   "cell_type": "code",
   "execution_count": 1,
   "metadata": {},
   "outputs": [
    {
     "name": "stdout",
     "output_type": "stream",
     "text": [
      "Enter a word that you want to turn into pig-Latin = happy\n",
      "appyhay\n"
     ]
    }
   ],
   "source": [
    "def pig(Word):\n",
    "    if Word[0] in \"aeiouAEIOU\": #Get the first letter of the word and if the word starts with a vowel \n",
    "        return Word +'way' # Append 'way' to the end of the word  \n",
    "    else:\n",
    "        return Word[1:] + Word[0] + 'ay' #If the word starts with a consonant, move that letter to the end and append 'ay'. \n",
    "\n",
    "Entered_Word = input(\"Enter a word that you want to turn into pig-Latin = \")\n",
    "print(''.join(pig(Word).lower() for Word in Entered_Word.split())) "
   ]
  },
  {
   "cell_type": "markdown",
   "metadata": {},
   "source": [
    "# Question 7 Python"
   ]
  },
  {
   "cell_type": "markdown",
   "metadata": {},
   "source": [
    "File bloodtype1.txt records blood-types of patients (A, B, AB, O or OO) at a clinic.\n",
    "\n",
    "Write a function bldcount() that reads the file with name name and reports (i.e., prints) how many patients there are in each bloodtype."
   ]
  },
  {
   "cell_type": "code",
   "execution_count": 2,
   "metadata": {},
   "outputs": [
    {
     "name": "stdout",
     "output_type": "stream",
     "text": [
      "There are 15 patients of blood type A\n",
      "There is one patient of blood type B\n",
      "There are 13 patients of blood type AB\n",
      "There are 15 patients of blood type O\n",
      "There are no patients of blood type OO\n"
     ]
    }
   ],
   "source": [
    "def bldcount(bloodtype):\n",
    "    \n",
    "    TextFile=open(\"bloodtype.txt\") #Open the txt file\n",
    "    WordList= TextFile.read()      #read the txt file\n",
    "    WordList=WordList.split()      \n",
    "    bloodtype = ['A','B','AB','O','OO']\n",
    "    \n",
    "    for i in bloodtype:\n",
    "        if WordList.count(i)==1:\n",
    "            print('There is one patient of blood type', i)\n",
    "        elif WordList.count(i)==0:\n",
    "            print('There are no patients of blood type', i)\n",
    "        else:\n",
    "            print('There are',WordList.count(i),'patients of blood type', i)\n",
    "bldcount('bloodtype.txt')"
   ]
  },
  {
   "cell_type": "markdown",
   "metadata": {},
   "source": [
    "# Question 8 Python"
   ]
  },
  {
   "cell_type": "markdown",
   "metadata": {},
   "source": [
    "Write a function curconv() that takes as input:\n",
    "\n",
    "1. a currency represented using a string (e.g., 'JPY' for the Japanese Yen or 'EUR' for the Euro)\n",
    "\n",
    "2. an amount and then converts and returns the amount in US dollars."
   ]
  },
  {
   "cell_type": "code",
   "execution_count": 3,
   "metadata": {},
   "outputs": [
    {
     "name": "stdout",
     "output_type": "stream",
     "text": [
      "122.96544\n",
      "1.241401\n"
     ]
    }
   ],
   "source": [
    "def curconv(Currency, Amount):\n",
    "    infile = open('currencies.txt', 'r')\n",
    "    lineList = infile.readlines()\n",
    "    \n",
    "    for line in lineList:\n",
    "        splitLine = line.split()\n",
    "        if Currency == splitLine[0]:\n",
    "            print(Amount * float(splitLine[1])) #extract the float values \n",
    "\n",
    "#Curconv('SEK', 100) \n",
    "curconv('EUR', 100) \n",
    "curconv('JPY', 100)"
   ]
  },
  {
   "cell_type": "markdown",
   "metadata": {},
   "source": [
    "# Question 9 Python"
   ]
  },
  {
   "cell_type": "markdown",
   "metadata": {},
   "source": [
    "Each of the following will cause an exception (an error). Identify what type of exception each will cause."
   ]
  },
  {
   "cell_type": "markdown",
   "metadata": {},
   "source": [
    "Answers:\n",
    "\n",
    "Trying to add incompatible variables, as in adding 6 + ‘a’\n",
    "(TypeError)\n",
    "\n",
    "\n",
    "Referring to the 12th item of a list that has only 10 items\n",
    "(IndexError)\n",
    "\n",
    "\n",
    "Using a value that is out of range for a function’s input, such as calling math.sqrt(-1.0)\n",
    "(ValueError)\n",
    "\n",
    "\n",
    "Using an undeclared variable, such as print(x) when x has not been defined \n",
    "(NameError)\n",
    "\n",
    "\n",
    "Trying to open a file that does not exist, such as mistyping the file name or looking in the wrong directory. \n",
    "(IOError)"
   ]
  },
  {
   "cell_type": "markdown",
   "metadata": {},
   "source": [
    "# Question 10 Python"
   ]
  },
  {
   "cell_type": "markdown",
   "metadata": {},
   "source": [
    "Encryption is the process of hiding the meaning of a text by substituting letters in the message with other letters, according to some system. If the process is successful, no one but the intended recipient can understand the encrypted message. \n",
    "\n",
    "Cryptanalysis refers to attempts to undo the encryption, even if some details of the encryption are unknown (for example, if an encrypted message has been intercepted). The first step of cryptanalysis is often to build up a table of letter frequencies in the encrypted text.\n",
    "\n",
    "Assume that the string letters is already defined as 'abcdefghijklmnopqrstuvwxyz'. Write a function called frequencies() that takes a string as its only parameter, and returns a list of integers, showing the number of times each character appears in the text. Your function may ignore any characters that are not in letters. "
   ]
  },
  {
   "cell_type": "code",
   "execution_count": 4,
   "metadata": {},
   "outputs": [
    {
     "name": "stdout",
     "output_type": "stream",
     "text": [
      "[1, 2, 4, 8, 1, 1, 1, 1, 1, 2, 3, 1, 4, 1, 1, 2, 1, 1, 2, 1, 1]\n",
      "[1, 2, 1, 1]\n"
     ]
    }
   ],
   "source": [
    "def frequencies(check_string):\n",
    "    My_dictionary = {}\n",
    "    \n",
    "    for count in check_string:\n",
    "        keys= My_dictionary.keys()\n",
    "        \n",
    "        if count in keys:\n",
    "            My_dictionary[count] = My_dictionary[count] +1 \n",
    "            \n",
    "        else:\n",
    "            My_dictionary[count] = 1\n",
    "            values= list(My_dictionary.values())\n",
    "    return values\n",
    "\n",
    "print(frequencies('The quick red fox got bored and went home'))\n",
    "print(frequencies('APPLE'))"
   ]
  },
  {
   "cell_type": "code",
   "execution_count": null,
   "metadata": {},
   "outputs": [],
   "source": []
  }
 ],
 "metadata": {
  "kernelspec": {
   "display_name": "Python 3",
   "language": "python",
   "name": "python3"
  },
  "language_info": {
   "codemirror_mode": {
    "name": "ipython",
    "version": 3
   },
   "file_extension": ".py",
   "mimetype": "text/x-python",
   "name": "python",
   "nbconvert_exporter": "python",
   "pygments_lexer": "ipython3",
   "version": "3.8.5"
  }
 },
 "nbformat": 4,
 "nbformat_minor": 4
}
